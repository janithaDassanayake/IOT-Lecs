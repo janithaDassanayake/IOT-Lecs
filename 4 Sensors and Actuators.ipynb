{
 "cells": [
  {
   "cell_type": "markdown",
   "metadata": {},
   "source": [
    "# Five Senses"
   ]
  },
  {
   "cell_type": "code",
   "execution_count": null,
   "metadata": {},
   "outputs": [],
   "source": [
    "​ Eye    : Image sensor / Light intensity sensor\n",
    "​ Ear    : Ultrasonic sensor / Acoustic sensor\n",
    "​ Nose   : Gas component sensor\n",
    "​ Tongue : Liquid component sensor\n",
    "​ Skin   : Humidity sensor / Temperature sensor / Pressure sensor "
   ]
  },
  {
   "cell_type": "markdown",
   "metadata": {},
   "source": [
    "# Seven Base Quantities"
   ]
  },
  {
   "cell_type": "code",
   "execution_count": null,
   "metadata": {},
   "outputs": [],
   "source": [
    "Time / Electric Current / Mass / Length / Tempereture / Luminous / "
   ]
  },
  {
   "cell_type": "markdown",
   "metadata": {},
   "source": [
    "# Electronic Parameters and Equations"
   ]
  },
  {
   "cell_type": "code",
   "execution_count": null,
   "metadata": {},
   "outputs": [],
   "source": [
    "Resistance (R) = V /I\n",
    "Voltage (V) = IR\n",
    "Current (I) = V/R\n",
    "Capacitance = q/V"
   ]
  },
  {
   "cell_type": "markdown",
   "metadata": {},
   "source": [
    "# Commen Sensors"
   ]
  },
  {
   "cell_type": "markdown",
   "metadata": {},
   "source": [
    "# ![](gfffg.png)"
   ]
  },
  {
   "cell_type": "markdown",
   "metadata": {},
   "source": [
    "# ultra sonic"
   ]
  },
  {
   "cell_type": "code",
   "execution_count": null,
   "metadata": {},
   "outputs": [],
   "source": [
    "So ultra sonic will send the puls and wait for it retuen\n",
    "\n",
    "An ultrasonic sensor send and receive ultrasonic pulses\n",
    "that relay back information about an object’s proximity\n",
    "\n",
    "rest of the things (Meusament) is up to  programer to Program."
   ]
  },
  {
   "cell_type": "markdown",
   "metadata": {},
   "source": [
    "# IR sensor "
   ]
  },
  {
   "cell_type": "code",
   "execution_count": null,
   "metadata": {},
   "outputs": [],
   "source": [
    "In IR sensor there were 2 LED blub . one is IR Transmeter and the other one is IR reciver\n",
    "\n",
    "IR source (transmitter) is send waves.\n",
    "This radiation reaches the object and is reflected back. \n",
    "The reflected radiation is detected by the IR receiver.\n",
    "The IR Receiver detected radiation is then further processed based on its intensity."
   ]
  },
  {
   "cell_type": "markdown",
   "metadata": {},
   "source": [
    "# Analog vs Digital Signal"
   ]
  },
  {
   "cell_type": "code",
   "execution_count": null,
   "metadata": {},
   "outputs": [],
   "source": [
    "Analog signal is a continuos signal that changes over a time period \n",
    "Digital signal is a discreate signal that carries information in binary form\n",
    "\n",
    "A sign wave represnt an analog signal while A square wave represnts a digital signal\n",
    "\n",
    "Analog = Thermormeter /  Digital PCs / PDAs"
   ]
  },
  {
   "cell_type": "markdown",
   "metadata": {},
   "source": [
    "# Floating Pins"
   ]
  },
  {
   "cell_type": "code",
   "execution_count": null,
   "metadata": {},
   "outputs": [],
   "source": [
    "Floating when it is connected neither VCC nor GROUND\n",
    "Pull up / pulldown is a good solution for floating\n",
    "\n",
    "'''Pull up Resestor connects unused input pins to (AND & NAND) VCC to keep the given input High.\n",
    "Pull down Resestor connect unsued input pins to (OR & NOR) ground (0) to keep the given input LOW'''\n",
    "\n",
    "switch = ground / pull up\n",
    "switch = VCC / pull down"
   ]
  },
  {
   "cell_type": "markdown",
   "metadata": {},
   "source": [
    "# ------------- Sensor Communication ----------------"
   ]
  },
  {
   "cell_type": "markdown",
   "metadata": {},
   "source": [
    "# 1) UART (Universal Asynchroneous Reciver Transmitter)"
   ]
  },
  {
   "cell_type": "code",
   "execution_count": null,
   "metadata": {},
   "outputs": [],
   "source": [
    "in here how ever one TX is should be connected With One RX it sends 1 and 0."
   ]
  },
  {
   "cell_type": "markdown",
   "metadata": {},
   "source": [
    "![](vvvvv.png)"
   ]
  },
  {
   "cell_type": "markdown",
   "metadata": {},
   "source": [
    "# 2)  I2C (Inter Intergrated Circuit Protocal)"
   ]
  },
  {
   "cell_type": "code",
   "execution_count": null,
   "metadata": {},
   "outputs": [],
   "source": [
    "in here we have 2 pins SDA & SCL \n",
    "SDA = Serial data  & it s 2 way communication\n",
    "SCL = Serial Clock / it 1 way communication\n",
    "\n",
    "in we have master device and slave device /\n",
    "Master device is the main device and \n",
    "slave device is the sub device\n",
    "\n",
    "so as example Master can be raspery pi / Slave can be sensor.\n",
    "\n",
    "''' Master = is the one who requseting the data from the sensor\n",
    "slave  = is the device is that excute the task and send the data to master'''\n",
    "\n",
    "I2C is Syncronus communication Protocal\n",
    "\n",
    "SCL will send clock plus to mange the speed between 2 devices."
   ]
  },
  {
   "cell_type": "markdown",
   "metadata": {},
   "source": [
    "![](xsxsx.png)"
   ]
  },
  {
   "cell_type": "markdown",
   "metadata": {},
   "source": [
    "# Multiple Saves and Masters"
   ]
  },
  {
   "cell_type": "code",
   "execution_count": null,
   "metadata": {},
   "outputs": [],
   "source": [
    "All the masters should be Sysncronisesd \n",
    "singale data line comunicate through out this.\n",
    "\n",
    "Only have one bus / can do paralal communication"
   ]
  },
  {
   "cell_type": "markdown",
   "metadata": {},
   "source": [
    "# 3 SPI (Serial Peripheral Interface)"
   ]
  },
  {
   "cell_type": "code",
   "execution_count": null,
   "metadata": {},
   "outputs": [],
   "source": [
    "4 Pins \n",
    "in this case Master out put and the slave out put.\n",
    "'MOSI' = mater out / slave in\n",
    "can do paralal communication \n",
    "'SCLK' = Serial clock\n",
    "\n",
    "'ss/cs' = slave select /click select."
   ]
  },
  {
   "cell_type": "markdown",
   "metadata": {},
   "source": [
    "![](dsdsd.png)"
   ]
  },
  {
   "cell_type": "markdown",
   "metadata": {},
   "source": [
    "# * Sensors"
   ]
  },
  {
   "cell_type": "code",
   "execution_count": null,
   "metadata": {},
   "outputs": [],
   "source": [
    "​ Sensors play an important role in creating solutions using IoT.\n",
    "​ Sensors are devices that detect external information and convert it into a signal that \n",
    "  humans and machines can understand.\n",
    "\n",
    "Sensors made to collect data in most any situation and are now used in various fields -\n",
    "'medical care,industrial, logistics, transportation, agriculture'"
   ]
  },
  {
   "cell_type": "markdown",
   "metadata": {},
   "source": [
    "#  * Actuators"
   ]
  },
  {
   "cell_type": "code",
   "execution_count": null,
   "metadata": {},
   "outputs": [],
   "source": [
    "Actuators are mostly mortors\n",
    "An actuator is a machine component that moves or controls the mechanism or the system.\n",
    "    \n",
    "   : normal Moter : DC moter (accding to voltahe it will Speed)\n",
    "   : server moter : can rotate the moter upto a given angel\n",
    "   : steper moter : it can rotate up to given number of step\n",
    "        \n",
    "- motors \n",
    "- solenoid ( doors)\n",
    "- buzzer - gives a beep sound \n",
    "- LED bulb \n",
    "- nichrome coil ( heating coil - used in iron)\n",
    "————————\n",
    "Types of motors \n",
    "- DC\n",
    "- Server motors - rotates from 0-180 ( can be used in doors that you need to open / close partially )\n",
    "- stepper motors - can give by step by step"
   ]
  },
  {
   "cell_type": "markdown",
   "metadata": {},
   "source": [
    "# Pulse Width Modulation"
   ]
  },
  {
   "cell_type": "code",
   "execution_count": null,
   "metadata": {},
   "outputs": [],
   "source": [
    "Effectivly it will help to manage the speed of a moter."
   ]
  },
  {
   "cell_type": "markdown",
   "metadata": {},
   "source": [
    "![](fvfvf.png)"
   ]
  },
  {
   "cell_type": "markdown",
   "metadata": {},
   "source": [
    "# Smart Farming "
   ]
  },
  {
   "cell_type": "markdown",
   "metadata": {},
   "source": [
    "Monitoring of climate conditions"
   ]
  },
  {
   "cell_type": "code",
   "execution_count": null,
   "metadata": {},
   "outputs": [],
   "source": [
    "various smart farming sensors can Located across the field, \n",
    "then they collect various data from the\n",
    "environment and send it to the cloud for procersing"
   ]
  },
  {
   "cell_type": "code",
   "execution_count": null,
   "metadata": {},
   "outputs": [],
   "source": [
    "Soil Moisture Sensors: Keep rack on soil moisture and auto watering approche."
   ]
  },
  {
   "cell_type": "code",
   "execution_count": null,
   "metadata": {},
   "outputs": [],
   "source": [
    "keep track on the tempratuer and the Humidilty"
   ]
  },
  {
   "cell_type": "code",
   "execution_count": null,
   "metadata": {},
   "outputs": [],
   "source": [
    "Electro-Chemical Sensors : sensors help in gathering chemical data of the soils \n",
    "                           can track the soil pH value"
   ]
  },
  {
   "cell_type": "code",
   "execution_count": null,
   "metadata": {},
   "outputs": [],
   "source": [
    "Location Sensors : help to locate the location"
   ]
  }
 ],
 "metadata": {
  "kernelspec": {
   "display_name": "Python 3",
   "language": "python",
   "name": "python3"
  },
  "language_info": {
   "codemirror_mode": {
    "name": "ipython",
    "version": 3
   },
   "file_extension": ".py",
   "mimetype": "text/x-python",
   "name": "python",
   "nbconvert_exporter": "python",
   "pygments_lexer": "ipython3",
   "version": "3.8.3"
  }
 },
 "nbformat": 4,
 "nbformat_minor": 4
}
