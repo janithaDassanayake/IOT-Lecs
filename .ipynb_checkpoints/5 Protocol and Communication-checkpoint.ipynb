{
 "cells": [
  {
   "cell_type": "markdown",
   "metadata": {},
   "source": [
    "# Why need Protocals"
   ]
  },
  {
   "cell_type": "code",
   "execution_count": null,
   "metadata": {},
   "outputs": [],
   "source": [
    "* A protocol is a set of rules and guidelines for communicating data. \n",
    "\n",
    "* Rules are defined for each step and process during communication between two or more computers. \n",
    "\n",
    "* Networks have to follow these rules to successfully transmit data"
   ]
  },
  {
   "cell_type": "markdown",
   "metadata": {},
   "source": [
    "# OSI 7 Layers Model"
   ]
  },
  {
   "cell_type": "code",
   "execution_count": null,
   "metadata": {},
   "outputs": [],
   "source": [
    "The Open Systems Interconnection (OSI) model describes seven layers\n",
    "that computer systems use to communicate over a network.\n",
    "this models defines the standard for communication."
   ]
  },
  {
   "cell_type": "markdown",
   "metadata": {},
   "source": [
    "# ![](dddd.png)"
   ]
  },
  {
   "cell_type": "markdown",
   "metadata": {},
   "source": [
    "# 3 Communication Address"
   ]
  },
  {
   "cell_type": "markdown",
   "metadata": {},
   "source": [
    "Port Address"
   ]
  },
  {
   "cell_type": "code",
   "execution_count": null,
   "metadata": {},
   "outputs": [],
   "source": [
    "* Offerd in 'Transport layer \n",
    "* to idenfy the Application use Port Numbers\n",
    "* A port number uniquely identifies a network-based application on a computer."
   ]
  },
  {
   "cell_type": "markdown",
   "metadata": {},
   "source": [
    "IP Address"
   ]
  },
  {
   "cell_type": "code",
   "execution_count": null,
   "metadata": {},
   "outputs": [],
   "source": [
    "* Host to Host communication or Device to Device Communication\n",
    "* IP address provides an identity to a networked device on the internet.\n",
    "* 'Network layer\n",
    "* ip address is sbjective \n",
    "* it logical"
   ]
  },
  {
   "cell_type": "code",
   "execution_count": null,
   "metadata": {},
   "outputs": [],
   "source": [
    "MAC Address \n",
    "\n",
    "Given by the 'data link layer \n",
    "its unique for the device\n",
    "\n",
    "* it is a unique identifier assigned to a network interface \n",
    "controller (NIC) for use as a network address in communications\n",
    "within a network segment. "
   ]
  },
  {
   "cell_type": "markdown",
   "metadata": {},
   "source": [
    "# to do communication what we need"
   ]
  },
  {
   "cell_type": "code",
   "execution_count": null,
   "metadata": {},
   "outputs": [],
   "source": [
    "Devices\n",
    "Mediam\n",
    "Messages \n",
    "Protocal"
   ]
  },
  {
   "cell_type": "markdown",
   "metadata": {},
   "source": [
    "# ------------------Protocall Types--------------"
   ]
  },
  {
   "cell_type": "markdown",
   "metadata": {},
   "source": [
    "# 1) Distance Vector Routing Protocall"
   ]
  },
  {
   "cell_type": "code",
   "execution_count": null,
   "metadata": {},
   "outputs": [],
   "source": [
    "* by counting no of hops and it take the shortes path\n",
    "* Shortest paths are calculated according to the distance to the destination\n",
    "\n",
    "DBF algorithms are also known as Distance-Vector (DV)\n",
    "\n",
    "For each destination, the node stores a single route table entry along with next-hop neighbor\n",
    "\n",
    "RIP, RIPv2"
   ]
  },
  {
   "cell_type": "markdown",
   "metadata": {},
   "source": [
    "# 2) Link state Routing Protocall"
   ]
  },
  {
   "cell_type": "code",
   "execution_count": null,
   "metadata": {},
   "outputs": [],
   "source": [
    "*  Shortest path calculataed accoding to the cost assignd to the each link"
   ]
  },
  {
   "cell_type": "markdown",
   "metadata": {},
   "source": [
    "# 3) Hybrid Routing Protocols"
   ]
  },
  {
   "cell_type": "code",
   "execution_count": null,
   "metadata": {},
   "outputs": [],
   "source": [
    "* it is a combiation of Distance vector and Link state Routing Protocal\n",
    "\n",
    "* or else we can say shortest path calculated  according to the distance to the destination and\n",
    "  the accoding to the cost assignd to the each link\n",
    "\n",
    "* accoding to cumulative cost matrics we can do"
   ]
  },
  {
   "cell_type": "markdown",
   "metadata": {},
   "source": [
    "# 4) State aware routing protocal"
   ]
  },
  {
   "cell_type": "code",
   "execution_count": null,
   "metadata": {},
   "outputs": [],
   "source": [
    "shoarted path calculated accoding to the state of the devices"
   ]
  },
  {
   "cell_type": "markdown",
   "metadata": {},
   "source": [
    "# --------------------Layered architecture in IoT Networks--------------------------"
   ]
  },
  {
   "cell_type": "code",
   "execution_count": null,
   "metadata": {},
   "outputs": [],
   "source": [
    "IOT devices genaraly devied in to 3 layers\n",
    "\n",
    "'The perception Layer :\n",
    "    *the perception layer is the place where it gathers all the informations\n",
    "    *it means information Origin and the core layer\n",
    "           eg : WSN (Wireless Sensor Network)\n",
    "            \n",
    "'The Network layer :\n",
    "    * basically interconnected all the connection and the gatways and send to the processing point \n",
    "    * Transport layer, includes access network and core network\n",
    "           E.g., Gateways, ISPs\n",
    "\n",
    "'Service layer / Appication layers'\n",
    "       ​ The collected and analyzed data is presented to the end user in application layer.\n",
    "       ​ This may used to control the overall system"
   ]
  },
  {
   "cell_type": "markdown",
   "metadata": {},
   "source": [
    "# --------Where routing protocols are needed in IoT Networks? -----"
   ]
  },
  {
   "cell_type": "code",
   "execution_count": null,
   "metadata": {},
   "outputs": [],
   "source": [
    "'Perception Layer:' \n",
    "        Among the sensors, i.e., Wireless Sensor Networks\n",
    "\n",
    "'Network Layer:\n",
    "        Among the Routers, i.e., gateway devices\n"
   ]
  },
  {
   "cell_type": "markdown",
   "metadata": {},
   "source": [
    "# --------- Primary considerations of routing protocols------"
   ]
  },
  {
   "cell_type": "code",
   "execution_count": null,
   "metadata": {},
   "outputs": [],
   "source": [
    "Perception Layer’s Routing protocols are designed in the IoT networks by considering\n",
    "\n",
    "* Energy preservation (Power)\n",
    "* Computation (Processing)\n",
    "* Memory requirement (Memory)\n"
   ]
  },
  {
   "cell_type": "markdown",
   "metadata": {},
   "source": [
    "# ---------- Wireless Sensor Networks -------------"
   ]
  },
  {
   "cell_type": "code",
   "execution_count": null,
   "metadata": {},
   "outputs": [],
   "source": [
    "* Is a wireless network consisting of spatially distributed autonomous devices\n",
    "\n",
    "* Devices use sensors to monitor \n",
    "      physical or \n",
    "      environmental conditions. "
   ]
  },
  {
   "cell_type": "markdown",
   "metadata": {},
   "source": [
    "# ------------Classification of WSN Routing Protocols -----------------"
   ]
  },
  {
   "cell_type": "code",
   "execution_count": null,
   "metadata": {},
   "outputs": [],
   "source": [
    "* Based on the mode of functioning\n",
    "     '''Proactive –Table Driven\n",
    "        Reactive – On demand \n",
    "        Hybrid'''\n",
    "\n",
    "* Based on the nodes’ participation style\n",
    "'''Direct communication\n",
    "   Flat\n",
    "   Clustering'''\n",
    "\n",
    "* Based on the topology\n",
    "'''Hierarchical\n",
    "   Data centric\n",
    "   Location based'''\n",
    "\n"
   ]
  },
  {
   "cell_type": "markdown",
   "metadata": {},
   "source": [
    "# 1) Proactive –Table Driven"
   ]
  },
  {
   "cell_type": "code",
   "execution_count": null,
   "metadata": {},
   "outputs": [],
   "source": [
    "We can maintain Routing table : \n",
    "    \n",
    "   * we need exta amount of CPU power and Extra ammount of memory\n",
    "   * routing table it self is table so we need a momory\n",
    "   * cost can be high\n",
    "             \n",
    "   * It is a table-driven pro-active protocol\n",
    "\n",
    "\n",
    "Examples\n",
    "\n",
    "-Optimized Link State Routing Protocol (OLSR) RFC 3626, RFC 7181.\n",
    "-Babel RFC 6126\n",
    "-Destination Sequence Distance Vector (DSDV)\n",
    "-DREAM\n",
    "-B.A.T.M.A.N.\n",
    "\n"
   ]
  },
  {
   "cell_type": "markdown",
   "metadata": {},
   "source": [
    "# 2) Reactive – On demand"
   ]
  },
  {
   "cell_type": "code",
   "execution_count": null,
   "metadata": {},
   "outputs": [],
   "source": [
    "In Reactive or on-demand routing protocols, the routes are discovered only when they are actually needed\n",
    "\n",
    "Not maintaining a Routing table\n",
    "\n",
    "in here it work pork its Neighbors and and check whose have best power."
   ]
  },
  {
   "cell_type": "markdown",
   "metadata": {},
   "source": [
    "# 3 ) Hybrid"
   ]
  },
  {
   "cell_type": "code",
   "execution_count": null,
   "metadata": {},
   "outputs": [],
   "source": [
    "The hybrid protocols are a mixture of reactive and proactive routing protocols that \n",
    "make use of best qualities among both. The advantages of reactive and proactive \n",
    "protocols are merged to form a hybrid protocol."
   ]
  },
  {
   "cell_type": "markdown",
   "metadata": {},
   "source": [
    "# ------- Diffrance Between Procative and Recative--------"
   ]
  },
  {
   "cell_type": "markdown",
   "metadata": {},
   "source": [
    "![](ccc.png)"
   ]
  },
  {
   "cell_type": "code",
   "execution_count": null,
   "metadata": {},
   "outputs": [],
   "source": []
  }
 ],
 "metadata": {
  "kernelspec": {
   "display_name": "Python 3",
   "language": "python",
   "name": "python3"
  },
  "language_info": {
   "codemirror_mode": {
    "name": "ipython",
    "version": 3
   },
   "file_extension": ".py",
   "mimetype": "text/x-python",
   "name": "python",
   "nbconvert_exporter": "python",
   "pygments_lexer": "ipython3",
   "version": "3.8.3"
  }
 },
 "nbformat": 4,
 "nbformat_minor": 4
}
