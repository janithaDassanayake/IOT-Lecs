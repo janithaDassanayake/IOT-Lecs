{
 "cells": [
  {
   "cell_type": "markdown",
   "metadata": {},
   "source": [
    "# Protocal"
   ]
  },
  {
   "cell_type": "code",
   "execution_count": null,
   "metadata": {},
   "outputs": [],
   "source": [
    "* A protocol is a set of rules and guidelines for communicating data. \n",
    "\n",
    "* Rules are defined for each step and process during communication between two or more computers. \n",
    "\n",
    "* Networks have to follow these rules to successfully transmit data."
   ]
  },
  {
   "cell_type": "markdown",
   "metadata": {},
   "source": [
    "# What is MQTT in IoT?"
   ]
  },
  {
   "cell_type": "code",
   "execution_count": null,
   "metadata": {},
   "outputs": [],
   "source": [
    "in full form MQTT is Message Queuing Telemetry Transport\n",
    "\n",
    "MQTT is the standard protocol for messaging and data exchange for the Internet of Things.\n",
    "\n",
    "MQTT is broker based protocol in which client devices communicate via broker\n",
    "\n",
    "This Protocall uses publisher and Subscriber Architecher.\n",
    "\n",
    "MQTT is designed for IoT devices - lightweight, which enables low-cost device communication.\n",
    "\n",
    "It is able to transfer data across the Internet in near real-time"
   ]
  },
  {
   "cell_type": "markdown",
   "metadata": {},
   "source": [
    "# Who uses MQTT?"
   ]
  },
  {
   "cell_type": "code",
   "execution_count": null,
   "metadata": {},
   "outputs": [],
   "source": [
    "MQTT is Used by many magor companies , Espacially in the automotive , industry 4.0 and transport sectoer.\n",
    "\n",
    "It is used for numerous applications such as machine-to-machine (M2M) communication., IoT and WSN"
   ]
  },
  {
   "cell_type": "markdown",
   "metadata": {},
   "source": [
    "# How does MQTT work?"
   ]
  },
  {
   "cell_type": "code",
   "execution_count": null,
   "metadata": {},
   "outputs": [],
   "source": [
    "MQTT follows the Publish/Subscribe paradigm. \n",
    "\n",
    "The sender (Publisher) and receiver (Subscribers) of messages communicate throgh topics \n",
    "\n",
    "The connection between sender and receiver is handled by the broker\n",
    "\n",
    "The broker s job is to filter all incoming messages and properly distribute them to the (receiver)subscribers.\n",
    "\n",
    "The broker pushes the information to the client whenever anything new available, \n",
    "so the client does not have to pull it again and again."
   ]
  },
  {
   "cell_type": "markdown",
   "metadata": {},
   "source": [
    "# MQTT Concepts"
   ]
  },
  {
   "cell_type": "code",
   "execution_count": null,
   "metadata": {},
   "outputs": [],
   "source": [
    "Publisher \n",
    "Broker\n",
    "Subscribe\n",
    "Topics"
   ]
  },
  {
   "cell_type": "markdown",
   "metadata": {},
   "source": [
    "# What does an MQTT broker do?"
   ]
  },
  {
   "cell_type": "code",
   "execution_count": null,
   "metadata": {},
   "outputs": [],
   "source": [
    "* The connection of the Sender and Reciver handel by Broker. \n",
    "* The task of the broker is to filter all incoming messages and distribute them correctly to the subscribers.\n",
    "* The MQTT Broker is known as heart of the any MQTT development."
   ]
  },
  {
   "cell_type": "markdown",
   "metadata": {},
   "source": [
    "# MQTT Brokers That We can use."
   ]
  },
  {
   "cell_type": "code",
   "execution_count": null,
   "metadata": {},
   "outputs": [],
   "source": [
    "There are several brokers you can use :\n",
    "      \n",
    "       Mosquitto broker is one of the main brokers that can install fro PCs\n",
    "       \n",
    "       CloudMQTT broker is also a web based Broker."
   ]
  },
  {
   "cell_type": "markdown",
   "metadata": {},
   "source": [
    "# What is an MQTT client?"
   ]
  },
  {
   "cell_type": "code",
   "execution_count": null,
   "metadata": {},
   "outputs": [],
   "source": [
    "* MQTT client can be both publisher and/or subscriber.\n",
    "* MQTT Client is any device that use MQTT libires to connect with MQTT broker over the network."
   ]
  },
  {
   "cell_type": "markdown",
   "metadata": {},
   "source": [
    "# Publish/Subscribe"
   ]
  },
  {
   "cell_type": "code",
   "execution_count": null,
   "metadata": {},
   "outputs": [],
   "source": [
    "Device can Publish a message on Topic\n",
    "or Device can subscribe to a perticuler topic to recive messages."
   ]
  },
  {
   "cell_type": "markdown",
   "metadata": {},
   "source": [
    "# What is an MQTT topic?"
   ]
  },
  {
   "cell_type": "code",
   "execution_count": null,
   "metadata": {},
   "outputs": [],
   "source": [
    "* Communication in MQTT is based on the topic principle\n",
    "* An MQTT Topic is a UTF-8 string that broker use to filter the messages for each connectd client\n",
    "* A topic can have one or more topic levels.\n",
    "* Each topic level is separated by a forward slash\n",
    "* Topics are case-sensitive\n",
    "* Must Consist of atleat one charector to be Valid"
   ]
  },
  {
   "cell_type": "markdown",
   "metadata": {},
   "source": [
    "# Wildcard Topics"
   ]
  },
  {
   "cell_type": "code",
   "execution_count": null,
   "metadata": {},
   "outputs": [],
   "source": [
    "When subscribing to multiple topics two wildcard characters can be used. The are:\n",
    "# (hash character) – multi level wildcard\n",
    "+ (plus character) -single level wildcard\n",
    "\n",
    "Wildcards can only be used to denote a level or multi-levels \n",
    "\n",
    "i.e /house/# "
   ]
  },
  {
   "cell_type": "markdown",
   "metadata": {},
   "source": [
    "![](vbvbvbvb.png)"
   ]
  },
  {
   "cell_type": "markdown",
   "metadata": {},
   "source": [
    "# The $SYS topic"
   ]
  },
  {
   "cell_type": "code",
   "execution_count": null,
   "metadata": {},
   "outputs": [],
   "source": [
    "This is a reserved topic and is used by most MQTT brokers to publish information about the broker.\n",
    "\n",
    "They are read-only topics for the MQTT clients\n",
    "\n",
    "There is no standard for this topic structure "
   ]
  },
  {
   "cell_type": "markdown",
   "metadata": {},
   "source": [
    "# Is MQTT secure?"
   ]
  },
  {
   "cell_type": "code",
   "execution_count": null,
   "metadata": {},
   "outputs": [],
   "source": [
    "MQTT is designed to allow very secure communication.\n",
    "The underlying TCP/IP transport protocol can add additional security via TLS encryption.\n",
    "it uses SSL/TLS for security. It encrypts payload"
   ]
  },
  {
   "cell_type": "markdown",
   "metadata": {},
   "source": [
    "# Is MQTT open source?"
   ]
  },
  {
   "cell_type": "code",
   "execution_count": null,
   "metadata": {},
   "outputs": [],
   "source": [
    "MQTT is an open protocol that is standardized by OASIS and ISO "
   ]
  },
  {
   "cell_type": "markdown",
   "metadata": {},
   "source": [
    "#  HTTP and MQTT?"
   ]
  },
  {
   "cell_type": "markdown",
   "metadata": {},
   "source": [
    "![](cvvd.jpg)"
   ]
  },
  {
   "cell_type": "markdown",
   "metadata": {},
   "source": [
    "# Does MQTT use TCP or UDP?"
   ]
  },
  {
   "cell_type": "code",
   "execution_count": null,
   "metadata": {},
   "outputs": [],
   "source": [
    "MQTT uses TCP. Due to ordering requirements MQTT over UDP is not possible."
   ]
  },
  {
   "cell_type": "markdown",
   "metadata": {},
   "source": [
    "# Does MQTT require internet?"
   ]
  },
  {
   "cell_type": "code",
   "execution_count": null,
   "metadata": {},
   "outputs": [],
   "source": [
    "Yes, to send or receive messages, the MQTT client must establish a TCP connection to the broker."
   ]
  },
  {
   "cell_type": "markdown",
   "metadata": {},
   "source": [
    "# Is MQTT restful?"
   ]
  },
  {
   "cell_type": "markdown",
   "metadata": {},
   "source": [
    "![](cvv.jpg)"
   ]
  },
  {
   "cell_type": "markdown",
   "metadata": {},
   "source": [
    "# Which port number is used by MQTT ?"
   ]
  },
  {
   "cell_type": "code",
   "execution_count": null,
   "metadata": {},
   "outputs": [],
   "source": [
    "It uses port number 1883."
   ]
  },
  {
   "cell_type": "markdown",
   "metadata": {},
   "source": [
    "# Explain MQTT broker architecture with one use case example."
   ]
  },
  {
   "cell_type": "code",
   "execution_count": null,
   "metadata": {},
   "outputs": [],
   "source": [
    " Let there is client#2 which updates temperature with broker. \n",
    "Let client#1 which wants to know updated temperature from broker. H\n",
    "ere client#2 acts as publisher and client#1 acts as subscriber. \n",
    "The same is shown in the figure below in message flow between client#1 \n",
    "with broker and between client#2 with broker."
   ]
  },
  {
   "cell_type": "markdown",
   "metadata": {},
   "source": [
    "# NodeRed"
   ]
  },
  {
   "cell_type": "code",
   "execution_count": null,
   "metadata": {},
   "outputs": [],
   "source": [
    "NodeRed is a simple visual tool that makes it easy to wire together\n",
    "events and devices for the Internet of Things."
   ]
  }
 ],
 "metadata": {
  "kernelspec": {
   "display_name": "Python 3",
   "language": "python",
   "name": "python3"
  },
  "language_info": {
   "codemirror_mode": {
    "name": "ipython",
    "version": 3
   },
   "file_extension": ".py",
   "mimetype": "text/x-python",
   "name": "python",
   "nbconvert_exporter": "python",
   "pygments_lexer": "ipython3",
   "version": "3.8.3"
  }
 },
 "nbformat": 4,
 "nbformat_minor": 4
}
