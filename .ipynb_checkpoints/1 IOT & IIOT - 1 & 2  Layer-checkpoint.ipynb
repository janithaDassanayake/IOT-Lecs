{
 "cells": [
  {
   "cell_type": "markdown",
   "metadata": {},
   "source": [
    "# Technologies That Enables IoT"
   ]
  },
  {
   "cell_type": "code",
   "execution_count": null,
   "metadata": {},
   "outputs": [],
   "source": [
    "​IPv6\n",
    "​Cheap Sensors\n",
    "​Cheap Bandwidth\n",
    "​Cheap Processors and Microcontrollers\n",
    "​Smartphones\n",
    "​Ubiquitous wireless coverage\n",
    "​Big data"
   ]
  },
  {
   "cell_type": "markdown",
   "metadata": {},
   "source": [
    "# What is IOT"
   ]
  },
  {
   "cell_type": "code",
   "execution_count": null,
   "metadata": {},
   "outputs": [],
   "source": [
    "The Internet of Things (IoT) refers to a system of interrelated, internet-connected\n",
    "objects that are able to collect and transfer data over a network without requiring\n",
    "human-to-human or human-to-computer interaction"
   ]
  },
  {
   "cell_type": "markdown",
   "metadata": {},
   "source": [
    "# Advantage of IOT"
   ]
  },
  {
   "cell_type": "code",
   "execution_count": null,
   "metadata": {},
   "outputs": [],
   "source": [
    "​ Minimize human effort which Means automate the Human process.\n",
    "​ IoT is saving money , becose of low Operation cost\n",
    "​ Higher Emplotee Prodcutivty\n",
    "​ Efficent Presource utilization\n",
    "​ Better Time Management\n",
    "​ 24 x 7 Avalability\n",
    "​ Easy Access : Right now, you can easily access the necessary information in real-time, \n",
    "                from (almost) whichever location you are at"
   ]
  },
  {
   "cell_type": "markdown",
   "metadata": {},
   "source": [
    "# Disadvantage of IOT"
   ]
  },
  {
   "cell_type": "code",
   "execution_count": null,
   "metadata": {},
   "outputs": [],
   "source": [
    "​ As the IoT systems are interconnected and communicate over networks. \n",
    "  it can be lead the various kinds of network attacks.\n",
    "    \n",
    "​ to handle and Maintain need a technical person.\n",
    "\n",
    "​ much complectity to Design , Developing and maintaing the tecnology of system complicated.\n",
    "\n",
    "​ Privacy issues : There is every possibility that your data can be misuse\n",
    "    \n",
    "​ Safety: Imagine if a hacker changes your prescription"
   ]
  },
  {
   "cell_type": "markdown",
   "metadata": {},
   "source": [
    "# IOT are driven 3 Parts"
   ]
  },
  {
   "cell_type": "code",
   "execution_count": null,
   "metadata": {},
   "outputs": [],
   "source": [
    "​ Sensors\n",
    "​ Connectivity\n",
    "​ People and Processes"
   ]
  },
  {
   "cell_type": "markdown",
   "metadata": {},
   "source": [
    "# What is a sensor "
   ]
  },
  {
   "cell_type": "code",
   "execution_count": null,
   "metadata": {},
   "outputs": [],
   "source": [
    "​ Sensors play an important role in creating solutions using IoT.\n",
    "​ Sensors are devices that detect external information and convert it into a signal that \n",
    "  humans and machines can understand.\n",
    "\n",
    "Sensors made to collect data in most any situation and are now used in various fields -\n",
    "'medical care,industrial, logistics, transportation, agriculture'"
   ]
  },
  {
   "cell_type": "markdown",
   "metadata": {},
   "source": [
    "Connectivity"
   ]
  },
  {
   "cell_type": "code",
   "execution_count": null,
   "metadata": {},
   "outputs": [],
   "source": [
    "​ Those gatherd inputs are digitized and place on to a network."
   ]
  },
  {
   "cell_type": "markdown",
   "metadata": {},
   "source": [
    "People and Processes"
   ]
  },
  {
   "cell_type": "code",
   "execution_count": null,
   "metadata": {},
   "outputs": [],
   "source": [
    "​ Those networked inputs can then be combined in to Bi derectional systems that \n",
    "integrate data pople ,processes and systems for better decision making."
   ]
  },
  {
   "cell_type": "markdown",
   "metadata": {},
   "source": [
    "User Interface"
   ]
  },
  {
   "cell_type": "code",
   "execution_count": null,
   "metadata": {},
   "outputs": [],
   "source": [
    "​ The IoT introduced a new paradigm among the available devices for active interaction and engagement."
   ]
  },
  {
   "cell_type": "markdown",
   "metadata": {},
   "source": [
    "![](vbbv.png)"
   ]
  },
  {
   "cell_type": "markdown",
   "metadata": {},
   "source": [
    "# Industry 4.0"
   ]
  },
  {
   "cell_type": "code",
   "execution_count": null,
   "metadata": {},
   "outputs": [],
   "source": [
    "Big Data\n",
    "Cloud Computing\n",
    "Automation\n",
    "Predictive Maintance\n",
    "Smart Sensors\n",
    "AI"
   ]
  },
  {
   "cell_type": "markdown",
   "metadata": {},
   "source": [
    "# Examples of sensors that detect the five human senses"
   ]
  },
  {
   "cell_type": "code",
   "execution_count": null,
   "metadata": {},
   "outputs": [],
   "source": [
    "​ Eye    : Image sensor / Light intensity sensor\n",
    "​ Ear    : Ultrasonic sensor / Acoustic sensor\n",
    "​ Nose   : Gas component sensor\n",
    "​ Tongue : Liquid component sensor\n",
    "​ Skin   : Humidity sensor / Temperature sensor / Pressure sensor \n",
    "    \n",
    "    proxcimity sensor / Soil mosisher"
   ]
  },
  {
   "cell_type": "markdown",
   "metadata": {},
   "source": [
    "# cognitive systems "
   ]
  },
  {
   "cell_type": "code",
   "execution_count": null,
   "metadata": {},
   "outputs": [],
   "source": [
    "​ systems that capable of independently solving and developing strategies for human tasks.\n",
    "\n",
    "​ The next generation of computing\n",
    "\n",
    "​ Systems that can learn reason and interact with people naturally"
   ]
  },
  {
   "cell_type": "markdown",
   "metadata": {},
   "source": [
    "# IoT Architectures"
   ]
  },
  {
   "cell_type": "code",
   "execution_count": null,
   "metadata": {},
   "outputs": [],
   "source": [
    "​ Three Layer : Application Layer / Network layer / Perception layer\n",
    "\n",
    "​ Four Layer  : Application Layer / Support layer / Network Layer / Perception Layer \n",
    "\n",
    "​ Five Layer  : Buiness Layer / Application Layer / Process Layer / network layer / perception Layer"
   ]
  },
  {
   "cell_type": "markdown",
   "metadata": {},
   "source": [
    "# Three Layer"
   ]
  },
  {
   "cell_type": "code",
   "execution_count": null,
   "metadata": {},
   "outputs": [],
   "source": [
    "​ Perception Layer - in this layer what happen is Sensors, actuators and edge devices that interact with the environment\n",
    "\n",
    "​ Network Layer – Discovers, connects and translates devices over a network and in coordination with the application layer\n",
    "\n",
    "​ Application Layer – Data processing and storage with specialized services and functionality for users"
   ]
  },
  {
   "cell_type": "markdown",
   "metadata": {},
   "source": [
    "# Five Layer"
   ]
  },
  {
   "cell_type": "markdown",
   "metadata": {},
   "source": [
    "Business Layer / Application Layer / Processing Layer /  Network Layer / Perception Layer"
   ]
  },
  {
   "cell_type": "markdown",
   "metadata": {},
   "source": [
    "# Middleware Layer/ Processing Layer"
   ]
  },
  {
   "cell_type": "code",
   "execution_count": null,
   "metadata": {},
   "outputs": [],
   "source": [
    "​ Processing Layer - Analyses, stores, and processes large data sets. Might use databases, \n",
    "                     cloud computing, big data processing resources.\n",
    "    \n",
    "​ This layer contains decision units and data analytics\t\n",
    "​ Automating the decision making process\n",
    "​ Data Storage\n",
    "​ Big Data Analytics"
   ]
  },
  {
   "cell_type": "markdown",
   "metadata": {},
   "source": [
    "# Application Layer"
   ]
  },
  {
   "cell_type": "code",
   "execution_count": null,
   "metadata": {},
   "outputs": [],
   "source": [
    "​ The collected and analyzed data is presented to the end user in application layer.\n",
    "​ This may used to control the overall system"
   ]
  },
  {
   "cell_type": "markdown",
   "metadata": {},
   "source": [
    "# Business Layer"
   ]
  },
  {
   "cell_type": "code",
   "execution_count": null,
   "metadata": {},
   "outputs": [],
   "source": [
    "The Business Layer is the place where all the business/domain logic, i.e. \n",
    "rules that are particular to the problem that the application has been built to handle, lives.\n",
    "​ Business Layer - Manages the entire IoT system, its functionality, applications, and business models."
   ]
  },
  {
   "cell_type": "markdown",
   "metadata": {},
   "source": [
    "# Three Layer Architecture Example"
   ]
  },
  {
   "cell_type": "markdown",
   "metadata": {},
   "source": [
    "# * Smart Greenhouse Example"
   ]
  },
  {
   "cell_type": "code",
   "execution_count": null,
   "metadata": {},
   "outputs": [],
   "source": [
    "​ Perception layer :  Temperature / Humidity / Light / Fan Controller \n",
    "\n",
    "​ NetWork layer :     Central Data Collection Node / Router / gateway\n",
    "    \n",
    "​ Application Layer : Web Dashboard / Analytical Report / cloud Strorage / ML"
   ]
  },
  {
   "cell_type": "markdown",
   "metadata": {},
   "source": [
    "# Edge IoT"
   ]
  },
  {
   "cell_type": "code",
   "execution_count": null,
   "metadata": {},
   "outputs": [],
   "source": [
    "a part of a distributed computing topology in which information processing is located close to the edge – \n",
    "where things and people produce or consume that information"
   ]
  },
  {
   "cell_type": "code",
   "execution_count": null,
   "metadata": {},
   "outputs": [],
   "source": [
    "Edge computing is a distributed computing paradigm that brings computation \n",
    "and data storage closer to the location where it is needed to \n",
    "improve response times and save bandwidth"
   ]
  },
  {
   "cell_type": "markdown",
   "metadata": {},
   "source": [
    "# Edge Computing Advantages and Disadvantages"
   ]
  },
  {
   "cell_type": "code",
   "execution_count": null,
   "metadata": {},
   "outputs": [],
   "source": [
    "​ Advantages\n",
    "\n",
    "        ​ Fast Response\n",
    "        ​ Less Downtime\n",
    "        ​ Better response to critical events\n",
    "        ​ Saves data charges\n",
    "        ​ Reduced usage of cloud services\n",
    "\n",
    "​ Disadvantages\n",
    "\n",
    "        ​ Security Vulnerability\n",
    "        ​ Require Redundancy\n",
    "        ​ May cause additional expenses."
   ]
  },
  {
   "cell_type": "markdown",
   "metadata": {},
   "source": [
    "# 3Vs of Big Data"
   ]
  },
  {
   "cell_type": "code",
   "execution_count": null,
   "metadata": {},
   "outputs": [],
   "source": [
    "​ Volume  :  \n",
    "        The large amount of data that is being generated / massive\n",
    "        \n",
    "​ Variety : Data is from diffrent Format \n",
    "        Structured Data\n",
    "        Semi-Structured Data\n",
    "        Unstructured Data\n",
    "\n",
    "​ Velocity :\n",
    "        The rate of data generation\n",
    "        efers to the speed with which data is generated\n",
    "        An example of a data that is generated with high velocity would be Twitter messages or Facebook posts.\n"
   ]
  },
  {
   "cell_type": "markdown",
   "metadata": {},
   "source": [
    "# The industrial internet of things (IIoT)"
   ]
  },
  {
   "cell_type": "code",
   "execution_count": null,
   "metadata": {},
   "outputs": [],
   "source": [
    "The industrial internet of things (IIoT) is the expansion and use of the internet of things (IoT) \n",
    "in industrial sectors and applications.\n",
    "\n",
    "It is a subset of the Internet of Things (IoT).\n",
    "\n",
    "It is combination of IoT technology and data with manufacturing and other industrial processes,\n",
    "often with the goal of increasing automation, efficiency, and productivity."
   ]
  },
  {
   "cell_type": "markdown",
   "metadata": {},
   "source": [
    "# IOT vs IIOT"
   ]
  },
  {
   "cell_type": "code",
   "execution_count": null,
   "metadata": {},
   "outputs": [],
   "source": [
    "​ IIOT deals witha larage amount of Network - while IOT deal with small Amont of Network\n",
    "\n",
    "​ IIOT have long life cycle   -  While IOT have small product cycle\n",
    "\n",
    "​ IIOT has high reliability -  while IOT is less Reliable\n",
    "\n",
    "​ in IIOT Maintenace is Schedualed and Organized - while IOT Maintenace is Consumer Prefered\n",
    "\n",
    "​ when it come to the Data Managemnt IIOT handels moderate amount of data while IOT handels High volun of data"
   ]
  },
  {
   "cell_type": "markdown",
   "metadata": {},
   "source": [
    "# Consumer IoT  (CIOT)"
   ]
  },
  {
   "cell_type": "code",
   "execution_count": null,
   "metadata": {},
   "outputs": [],
   "source": [
    "​ Consumer IoT refers to the billions of physical personal devices that are now available,\n",
    "such as smartphones, wearables, fashion items, and an increasing number of smart home equipment.\n",
    "connected to the internet, gathering and exchanging information"
   ]
  },
  {
   "cell_type": "markdown",
   "metadata": {},
   "source": [
    "# Application of IOT / IIOT / CIOT"
   ]
  },
  {
   "cell_type": "code",
   "execution_count": null,
   "metadata": {},
   "outputs": [],
   "source": [
    "'IIOT'\n",
    "\n",
    "​ Smart Factories\n",
    "​ Smart Transportation\n",
    "​ Smart City\n",
    "​ Health Monitoring\n",
    "\n",
    "\"IOT\"\n",
    "\n",
    "​ IoT Tracking and Monitoring System\n",
    "​ IoT Connected Factory\n",
    "​ Smart Supply Chain Management\n",
    "​ Smart Barcode Readers\n",
    "​ Smart Grids\n",
    "​ Connected HealthCare System\n",
    "​ mart Farming\n",
    "​ IOT Waste Management"
   ]
  },
  {
   "cell_type": "markdown",
   "metadata": {},
   "source": [
    "# Smart Factories"
   ]
  },
  {
   "cell_type": "code",
   "execution_count": null,
   "metadata": {},
   "outputs": [],
   "source": [
    "​ in Factories IoT solutions are important. Connected IoT devices, such as cameras for machine \n",
    "  vision and sensors, are required across a manufacturing facility to monitor status, \n",
    "    collect data, analyze it, and use insights to optimize operations.\n",
    "\n",
    "​ Smart Factories they redusing their cost but discovering new revenue Streams.\n",
    "\n",
    "​ For that one they prefome Predictive maintanence\n",
    "​ Warehouse optimization\n",
    "​ equipment Efficiency\n",
    "​ Efficient Resource utilization\n",
    "​ incresed Productivity\n",
    "​ Process Autometion"
   ]
  },
  {
   "cell_type": "markdown",
   "metadata": {},
   "source": [
    "# Smart Transportation"
   ]
  },
  {
   "cell_type": "code",
   "execution_count": null,
   "metadata": {},
   "outputs": [],
   "source": [
    "​ IoT for transportation is the networking of objects via embedded sensors, actuators and\n",
    "  other devices that gather and transmit data about real-world activities\n",
    "    \n",
    "​ Fleet Management \n",
    "​ Asset Tracking\n",
    "​ Predictive Maintenance\n",
    "​ Improved service"
   ]
  },
  {
   "cell_type": "markdown",
   "metadata": {},
   "source": [
    "# Smart City"
   ]
  },
  {
   "cell_type": "code",
   "execution_count": null,
   "metadata": {},
   "outputs": [],
   "source": [
    "​ Smart cities collect and analyze data using IoT devices such as connected sensors, \n",
    "lighting, and meters. These data are then used by cities\n",
    "to improve infrastructure, public utilities, and services.\n",
    "\n",
    "​ Crowdsensing :  \"Use input from general public\n",
    "​ Predictive Maintenance :  \"Potholes, Public places, Public utilities\n",
    "​ Enhanced services :  \"Garbage collection, street lights\n",
    "​ Safer City :  \"Crime reporting, Reporting of vandalism"
   ]
  },
  {
   "cell_type": "markdown",
   "metadata": {},
   "source": [
    "# IIoT Infrastructure"
   ]
  },
  {
   "cell_type": "code",
   "execution_count": null,
   "metadata": {},
   "outputs": [],
   "source": [
    "​ Network Infrastructure \n",
    "​ Computational Infrastructure – Edge Devices, Microcontrollers and etc.\n",
    "​ Interoperability with PLC (Programmable Logic Controllers)"
   ]
  },
  {
   "cell_type": "markdown",
   "metadata": {},
   "source": [
    "# What is PLC?"
   ]
  },
  {
   "cell_type": "code",
   "execution_count": null,
   "metadata": {},
   "outputs": [],
   "source": [
    "​ PLCs are typically used for their hard real-time capabilities, and it is generally not advisable to \n",
    "  introduce IoT functionality directly into their application logic"
   ]
  },
  {
   "cell_type": "markdown",
   "metadata": {},
   "source": [
    "# Over the Air Updates (OTA)"
   ]
  },
  {
   "cell_type": "code",
   "execution_count": null,
   "metadata": {},
   "outputs": [],
   "source": [
    "​ An over-the-air (OTA) update is the wireless delivery of new software, firmware,\n",
    "  or other data to mobile devices."
   ]
  },
  {
   "cell_type": "markdown",
   "metadata": {},
   "source": [
    "# Why OTA? (Advantages)"
   ]
  },
  {
   "cell_type": "code",
   "execution_count": null,
   "metadata": {},
   "outputs": [],
   "source": [
    "​ Better service\n",
    "​ Implement services long term revenue generation\n",
    "​ Security patches\n",
    "​ Package upgrades\n",
    "​ Customized user experience\n",
    "​ Scalability"
   ]
  }
 ],
 "metadata": {
  "kernelspec": {
   "display_name": "Python 3",
   "language": "python",
   "name": "python3"
  },
  "language_info": {
   "codemirror_mode": {
    "name": "ipython",
    "version": 3
   },
   "file_extension": ".py",
   "mimetype": "text/x-python",
   "name": "python",
   "nbconvert_exporter": "python",
   "pygments_lexer": "ipython3",
   "version": "3.8.3"
  }
 },
 "nbformat": 4,
 "nbformat_minor": 4
}
